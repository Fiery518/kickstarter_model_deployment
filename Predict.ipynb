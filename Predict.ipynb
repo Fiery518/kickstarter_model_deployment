{
 "cells": [
  {
   "cell_type": "code",
   "execution_count": 3,
   "id": "b7dbfd46",
   "metadata": {},
   "outputs": [],
   "source": [
    "import pickle\n",
    "\n",
    "model_RF = None\n",
    "with open(r'C:\\Users\\My PC\\Downloads\\Start-Up-Success-Prediction-master\\predict-cruchbase-data.ipynb', 'rb') as notebook_file:\n",
    "    notebook_content = notebook_file.read()\n",
    "   \n",
    "with open('trained_pipeline_1.0.0.pkl', 'wb') as file:\n",
    "    pickle.dump(model_RF, file)\n"
   ]
  },
  {
   "cell_type": "code",
   "execution_count": 4,
   "id": "7100837a",
   "metadata": {},
   "outputs": [],
   "source": [
    "import pickle\n"
   ]
  },
  {
   "cell_type": "code",
   "execution_count": 5,
   "id": "37051abc",
   "metadata": {},
   "outputs": [],
   "source": [
    "# Load the trained model\n",
    "with open('trained_pipeline_1.0.0.pkl', 'rb') as file:\n",
    "    model = pickle.load(file)\n"
   ]
  },
  {
   "cell_type": "code",
   "execution_count": null,
   "id": "ecfa37f0",
   "metadata": {},
   "outputs": [],
   "source": []
  }
 ],
 "metadata": {
  "kernelspec": {
   "display_name": "Python 3",
   "language": "python",
   "name": "python3"
  },
  "language_info": {
   "codemirror_mode": {
    "name": "ipython",
    "version": 3
   },
   "file_extension": ".py",
   "mimetype": "text/x-python",
   "name": "python",
   "nbconvert_exporter": "python",
   "pygments_lexer": "ipython3",
   "version": "3.6.13"
  }
 },
 "nbformat": 4,
 "nbformat_minor": 5
}
